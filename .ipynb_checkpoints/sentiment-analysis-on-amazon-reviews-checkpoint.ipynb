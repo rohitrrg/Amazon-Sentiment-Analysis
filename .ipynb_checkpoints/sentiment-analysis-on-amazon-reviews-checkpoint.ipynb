{
 "cells": [
  {
   "cell_type": "markdown",
   "id": "e541d213",
   "metadata": {},
   "source": [
    "<a href=\"https://www.kaggle.com/code/rohitgadhwar/sentiment-analysis-on-amazon-reviews?scriptVersionId=107914776\" target=\"_blank\"><img align=\"left\" alt=\"Kaggle\" title=\"Open in Kaggle\" src=\"https://kaggle.com/static/images/open-in-kaggle.svg\"></a>"
   ]
  },
  {
   "cell_type": "markdown",
   "id": "c770b69f",
   "metadata": {
    "papermill": {
     "duration": 0.010784,
     "end_time": "2022-10-13T02:34:07.995415",
     "exception": false,
     "start_time": "2022-10-13T02:34:07.984631",
     "status": "completed"
    },
    "tags": []
   },
   "source": [
    "# Import Libraries"
   ]
  },
  {
   "cell_type": "code",
   "execution_count": 1,
   "id": "1e5ea2f1",
   "metadata": {
    "_cell_guid": "b1076dfc-b9ad-4769-8c92-a6c4dae69d19",
    "_uuid": "8f2839f25d086af736a60e9eeb907d3b93b6e0e5",
    "execution": {
     "iopub.execute_input": "2022-10-13T02:34:08.013096Z",
     "iopub.status.busy": "2022-10-13T02:34:08.012481Z",
     "iopub.status.idle": "2022-10-13T02:34:08.990739Z",
     "shell.execute_reply": "2022-10-13T02:34:08.989521Z"
    },
    "papermill": {
     "duration": 0.990512,
     "end_time": "2022-10-13T02:34:08.99378",
     "exception": false,
     "start_time": "2022-10-13T02:34:08.003268",
     "status": "completed"
    },
    "tags": []
   },
   "outputs": [],
   "source": [
    "import numpy as np\n",
    "import pandas as pd\n",
    "import seaborn as sns\n",
    "import bz2\n",
    "import re\n",
    "import os\n",
    "import gc"
   ]
  },
  {
   "cell_type": "markdown",
   "id": "eb9289f6",
   "metadata": {
    "_uuid": "400fa34d9a714a22a20259ba3140a030551e1986",
    "papermill": {
     "duration": 0.006573,
     "end_time": "2022-10-13T02:34:09.007244",
     "exception": false,
     "start_time": "2022-10-13T02:34:09.000671",
     "status": "completed"
    },
    "tags": []
   },
   "source": [
    "# Read train & test files"
   ]
  },
  {
   "cell_type": "code",
   "execution_count": 2,
   "id": "b90f417e",
   "metadata": {
    "execution": {
     "iopub.execute_input": "2022-10-13T02:34:09.023258Z",
     "iopub.status.busy": "2022-10-13T02:34:09.022262Z",
     "iopub.status.idle": "2022-10-13T02:34:09.036024Z",
     "shell.execute_reply": "2022-10-13T02:34:09.034885Z"
    },
    "papermill": {
     "duration": 0.025415,
     "end_time": "2022-10-13T02:34:09.039435",
     "exception": false,
     "start_time": "2022-10-13T02:34:09.01402",
     "status": "completed"
    },
    "tags": []
   },
   "outputs": [
    {
     "name": "stdout",
     "output_type": "stream",
     "text": [
      "['test.ft.txt.bz2', 'train.ft.txt.bz2']\n"
     ]
    }
   ],
   "source": [
    "print(os.listdir(\"../input/amazonreviews/\"))"
   ]
  },
  {
   "cell_type": "code",
   "execution_count": 3,
   "id": "e58add64",
   "metadata": {
    "_cell_guid": "79c7e3d0-c299-4dcb-8224-4455121ee9b0",
    "_uuid": "d629ff2d2480ee46fbb7e2d37f6b5fab8052498a",
    "execution": {
     "iopub.execute_input": "2022-10-13T02:34:09.056708Z",
     "iopub.status.busy": "2022-10-13T02:34:09.056295Z",
     "iopub.status.idle": "2022-10-13T02:34:09.0624Z",
     "shell.execute_reply": "2022-10-13T02:34:09.061565Z"
    },
    "papermill": {
     "duration": 0.016765,
     "end_time": "2022-10-13T02:34:09.064497",
     "exception": false,
     "start_time": "2022-10-13T02:34:09.047732",
     "status": "completed"
    },
    "tags": []
   },
   "outputs": [],
   "source": [
    "train_file = bz2.BZ2File('../input/amazonreviews/train.ft.txt.bz2')\n",
    "test_file = bz2.BZ2File('../input/amazonreviews/test.ft.txt.bz2')"
   ]
  },
  {
   "cell_type": "markdown",
   "id": "6faebf56",
   "metadata": {
    "_uuid": "df4ce91d1b19fe5c93e401a3ce64fd4d1f07787a",
    "papermill": {
     "duration": 0.006484,
     "end_time": "2022-10-13T02:34:09.078163",
     "exception": false,
     "start_time": "2022-10-13T02:34:09.071679",
     "status": "completed"
    },
    "tags": []
   },
   "source": [
    "# Load and Extract text data"
   ]
  },
  {
   "cell_type": "code",
   "execution_count": 4,
   "id": "0d77759e",
   "metadata": {
    "execution": {
     "iopub.execute_input": "2022-10-13T02:34:09.094355Z",
     "iopub.status.busy": "2022-10-13T02:34:09.0937Z",
     "iopub.status.idle": "2022-10-13T02:34:09.100122Z",
     "shell.execute_reply": "2022-10-13T02:34:09.098866Z"
    },
    "papermill": {
     "duration": 0.017764,
     "end_time": "2022-10-13T02:34:09.102729",
     "exception": false,
     "start_time": "2022-10-13T02:34:09.084965",
     "status": "completed"
    },
    "tags": []
   },
   "outputs": [],
   "source": [
    "def load_extract(file):\n",
    "    texts, labels = [], [] \n",
    "    for line in file:\n",
    "        x = line.decode('utf-8')  # decode binary to string\n",
    "        labels.append(int(x[9]) - 1)  # extract labels\n",
    "        texts.append(x[10:].strip())  # extract texts\n",
    "    print('Done !')\n",
    "    return np.array(labels), texts"
   ]
  },
  {
   "cell_type": "code",
   "execution_count": 5,
   "id": "8f1bfb15",
   "metadata": {
    "execution": {
     "iopub.execute_input": "2022-10-13T02:34:09.118275Z",
     "iopub.status.busy": "2022-10-13T02:34:09.117878Z",
     "iopub.status.idle": "2022-10-13T02:36:43.941544Z",
     "shell.execute_reply": "2022-10-13T02:36:43.93993Z"
    },
    "papermill": {
     "duration": 154.835308,
     "end_time": "2022-10-13T02:36:43.944949",
     "exception": false,
     "start_time": "2022-10-13T02:34:09.109641",
     "status": "completed"
    },
    "tags": []
   },
   "outputs": [
    {
     "name": "stdout",
     "output_type": "stream",
     "text": [
      "Done !\n",
      "Done !\n"
     ]
    }
   ],
   "source": [
    "train_labels, train_texts = load_extract(train_file)\n",
    "test_labels, test_texts = load_extract(test_file)"
   ]
  },
  {
   "cell_type": "code",
   "execution_count": 6,
   "id": "6bc1c67c",
   "metadata": {
    "execution": {
     "iopub.execute_input": "2022-10-13T02:36:43.961342Z",
     "iopub.status.busy": "2022-10-13T02:36:43.960946Z",
     "iopub.status.idle": "2022-10-13T02:36:43.969645Z",
     "shell.execute_reply": "2022-10-13T02:36:43.968482Z"
    },
    "papermill": {
     "duration": 0.019686,
     "end_time": "2022-10-13T02:36:43.972194",
     "exception": false,
     "start_time": "2022-10-13T02:36:43.952508",
     "status": "completed"
    },
    "tags": []
   },
   "outputs": [
    {
     "data": {
      "text/plain": [
       "'Stuning even for the non-gamer: This sound track was beautiful! It paints the senery in your mind so well I would recomend it even to people who hate vid. game music! I have played the game Chrono Cross but out of all of the games I have ever played it has the best music! It backs away from crude keyboarding and takes a fresher step with grate guitars and soulful orchestras. It would impress anyone who cares to listen! ^_^'"
      ]
     },
     "execution_count": 6,
     "metadata": {},
     "output_type": "execute_result"
    }
   ],
   "source": [
    "train_texts[0]"
   ]
  },
  {
   "cell_type": "markdown",
   "id": "e98a27c0",
   "metadata": {
    "papermill": {
     "duration": 0.006883,
     "end_time": "2022-10-13T02:36:43.98612",
     "exception": false,
     "start_time": "2022-10-13T02:36:43.979237",
     "status": "completed"
    },
    "tags": []
   },
   "source": [
    "# Clean text data"
   ]
  },
  {
   "cell_type": "code",
   "execution_count": 7,
   "id": "f04c715b",
   "metadata": {
    "execution": {
     "iopub.execute_input": "2022-10-13T02:36:44.001918Z",
     "iopub.status.busy": "2022-10-13T02:36:44.001243Z",
     "iopub.status.idle": "2022-10-13T02:36:45.02955Z",
     "shell.execute_reply": "2022-10-13T02:36:45.028493Z"
    },
    "papermill": {
     "duration": 1.03926,
     "end_time": "2022-10-13T02:36:45.032411",
     "exception": false,
     "start_time": "2022-10-13T02:36:43.993151",
     "status": "completed"
    },
    "tags": []
   },
   "outputs": [],
   "source": [
    "import nltk\n",
    "from nltk.corpus import stopwords"
   ]
  },
  {
   "cell_type": "code",
   "execution_count": 8,
   "id": "1a761d9e",
   "metadata": {
    "execution": {
     "iopub.execute_input": "2022-10-13T02:36:45.048626Z",
     "iopub.status.busy": "2022-10-13T02:36:45.0482Z",
     "iopub.status.idle": "2022-10-13T02:36:45.058066Z",
     "shell.execute_reply": "2022-10-13T02:36:45.056975Z"
    },
    "papermill": {
     "duration": 0.020798,
     "end_time": "2022-10-13T02:36:45.060565",
     "exception": false,
     "start_time": "2022-10-13T02:36:45.039767",
     "status": "completed"
    },
    "tags": []
   },
   "outputs": [],
   "source": [
    "def clean_texts(texts):\n",
    "    stwords = stopwords.words('english')\n",
    "    l = len(texts)/10\n",
    "    temp_texts = []\n",
    "    for i in range(len(texts)):\n",
    "        text = re.sub('\\d','0',texts[i])\n",
    "        if 'www.' in text or 'http:' in text or 'https:' in text or '.com' in text: # remove links and urls\n",
    "            text = re.sub(r\"([^ ]+(?<=\\.[a-z]{3}))\", \" \", text)\n",
    "        \n",
    "        text = re.sub('[^a-zA-Z]', ' ', text)\n",
    "        text = text.lower()\n",
    "        text = text.split()\n",
    "        text = [word for word in text if not word in stwords] # remove stopwords \n",
    "        text = ' '.join(text)\n",
    "        temp_texts.append(text)\n",
    "        if i%l==0:\n",
    "            print('--'+str(int(i/l)*10)+'%', end='')\n",
    "    print('--100%--Done !')\n",
    "    return temp_texts"
   ]
  },
  {
   "cell_type": "code",
   "execution_count": 9,
   "id": "e3a1885c",
   "metadata": {
    "execution": {
     "iopub.execute_input": "2022-10-13T02:36:45.07694Z",
     "iopub.status.busy": "2022-10-13T02:36:45.076549Z",
     "iopub.status.idle": "2022-10-13T02:50:31.252991Z",
     "shell.execute_reply": "2022-10-13T02:50:31.251494Z"
    },
    "papermill": {
     "duration": 826.187365,
     "end_time": "2022-10-13T02:50:31.255428",
     "exception": false,
     "start_time": "2022-10-13T02:36:45.068063",
     "status": "completed"
    },
    "tags": []
   },
   "outputs": [
    {
     "name": "stdout",
     "output_type": "stream",
     "text": [
      "Processing Training data\n",
      "--0%--10%--20%--30%--40%--50%--60%--70%--80%--90%--100%--Done !\n",
      "\n",
      "Processing Test data\n",
      "--0%--10%--20%--30%--40%--50%--60%--70%--80%--90%--100%--Done !\n"
     ]
    }
   ],
   "source": [
    "print('Processing Training data')\n",
    "train_texts = clean_texts(train_texts)\n",
    "print('\\nProcessing Test data')\n",
    "test_texts = clean_texts(test_texts)"
   ]
  },
  {
   "cell_type": "code",
   "execution_count": 10,
   "id": "4d904d5a",
   "metadata": {
    "execution": {
     "iopub.execute_input": "2022-10-13T02:50:31.273737Z",
     "iopub.status.busy": "2022-10-13T02:50:31.273309Z",
     "iopub.status.idle": "2022-10-13T02:50:31.28025Z",
     "shell.execute_reply": "2022-10-13T02:50:31.279118Z"
    },
    "papermill": {
     "duration": 0.018771,
     "end_time": "2022-10-13T02:50:31.282565",
     "exception": false,
     "start_time": "2022-10-13T02:50:31.263794",
     "status": "completed"
    },
    "tags": []
   },
   "outputs": [
    {
     "data": {
      "text/plain": [
       "'stuning even non gamer sound track beautiful paints senery mind well would recomend even people hate vid game music played game chrono cross games ever played best music backs away crude keyboarding takes fresher step grate guitars soulful orchestras would impress anyone cares listen'"
      ]
     },
     "execution_count": 10,
     "metadata": {},
     "output_type": "execute_result"
    }
   ],
   "source": [
    "train_texts[0]"
   ]
  },
  {
   "cell_type": "code",
   "execution_count": 11,
   "id": "d94ef45c",
   "metadata": {
    "execution": {
     "iopub.execute_input": "2022-10-13T02:50:31.301381Z",
     "iopub.status.busy": "2022-10-13T02:50:31.300604Z",
     "iopub.status.idle": "2022-10-13T02:50:32.0739Z",
     "shell.execute_reply": "2022-10-13T02:50:32.072596Z"
    },
    "papermill": {
     "duration": 0.7854,
     "end_time": "2022-10-13T02:50:32.076458",
     "exception": false,
     "start_time": "2022-10-13T02:50:31.291058",
     "status": "completed"
    },
    "tags": []
   },
   "outputs": [
    {
     "data": {
      "text/plain": [
       "<AxesSubplot:ylabel='count'>"
      ]
     },
     "execution_count": 11,
     "metadata": {},
     "output_type": "execute_result"
    },
    {
     "data": {
      "image/png": "[encoded data removed]",
      "text/plain": [
       "<Figure size 432x288 with 1 Axes>"
      ]
     },
     "metadata": {
      "needs_background": "light"
     },
     "output_type": "display_data"
    }
   ],
   "source": [
    "sns.countplot(x=train_labels)"
   ]
  },
  {
   "cell_type": "code",
   "execution_count": 12,
   "id": "1728f38b",
   "metadata": {
    "execution": {
     "iopub.execute_input": "2022-10-13T02:50:32.096914Z",
     "iopub.status.busy": "2022-10-13T02:50:32.096473Z",
     "iopub.status.idle": "2022-10-13T02:55:20.642809Z",
     "shell.execute_reply": "2022-10-13T02:55:20.641223Z"
    },
    "papermill": {
     "duration": 288.560177,
     "end_time": "2022-10-13T02:55:20.645827",
     "exception": false,
     "start_time": "2022-10-13T02:50:32.08565",
     "status": "completed"
    },
    "tags": []
   },
   "outputs": [
    {
     "name": "stdout",
     "output_type": "stream",
     "text": [
      "Fitting data...\n",
      "fit complete !\n",
      "tranforming training set...\n",
      "tranforming test set...\n"
     ]
    }
   ],
   "source": [
    "from sklearn.feature_extraction.text import CountVectorizer\n",
    "\n",
    "print('Fitting data...')\n",
    "count_vect = CountVectorizer()\n",
    "count_vect.fit(train_texts) ; print('fit complete !')\n",
    "\n",
    "print('tranforming training set...')\n",
    "train_texts_vec = count_vect.transform(train_texts)\n",
    "\n",
    "print('tranforming test set...')\n",
    "test_texts_vec = count_vect.transform(test_texts)"
   ]
  },
  {
   "cell_type": "markdown",
   "id": "72895bdd",
   "metadata": {
    "papermill": {
     "duration": 0.008927,
     "end_time": "2022-10-13T02:55:20.663963",
     "exception": false,
     "start_time": "2022-10-13T02:55:20.655036",
     "status": "completed"
    },
    "tags": []
   },
   "source": [
    "# Train model"
   ]
  },
  {
   "cell_type": "markdown",
   "id": "74a6d034",
   "metadata": {
    "papermill": {
     "duration": 0.008742,
     "end_time": "2022-10-13T02:55:20.681807",
     "exception": false,
     "start_time": "2022-10-13T02:55:20.673065",
     "status": "completed"
    },
    "tags": []
   },
   "source": [
    "## MultinomialNB Model"
   ]
  },
  {
   "cell_type": "code",
   "execution_count": 13,
   "id": "ba3da469",
   "metadata": {
    "execution": {
     "iopub.execute_input": "2022-10-13T02:55:20.702016Z",
     "iopub.status.busy": "2022-10-13T02:55:20.70159Z",
     "iopub.status.idle": "2022-10-13T02:55:22.557804Z",
     "shell.execute_reply": "2022-10-13T02:55:22.556699Z"
    },
    "papermill": {
     "duration": 1.869431,
     "end_time": "2022-10-13T02:55:22.560308",
     "exception": false,
     "start_time": "2022-10-13T02:55:20.690877",
     "status": "completed"
    },
    "tags": []
   },
   "outputs": [
    {
     "data": {
      "text/plain": [
       "MultinomialNB()"
      ]
     },
     "execution_count": 13,
     "metadata": {},
     "output_type": "execute_result"
    }
   ],
   "source": [
    "from sklearn.naive_bayes import MultinomialNB\n",
    "nb = MultinomialNB()\n",
    "nb.fit(train_texts_vec, train_labels)"
   ]
  },
  {
   "cell_type": "code",
   "execution_count": 14,
   "id": "3395de8d",
   "metadata": {
    "execution": {
     "iopub.execute_input": "2022-10-13T02:55:22.581547Z",
     "iopub.status.busy": "2022-10-13T02:55:22.580457Z",
     "iopub.status.idle": "2022-10-13T02:55:22.72684Z",
     "shell.execute_reply": "2022-10-13T02:55:22.725673Z"
    },
    "papermill": {
     "duration": 0.159884,
     "end_time": "2022-10-13T02:55:22.729397",
     "exception": false,
     "start_time": "2022-10-13T02:55:22.569513",
     "status": "completed"
    },
    "tags": []
   },
   "outputs": [],
   "source": [
    "y_pred = nb.predict(test_texts_vec)"
   ]
  },
  {
   "cell_type": "code",
   "execution_count": 15,
   "id": "e5cca98c",
   "metadata": {
    "execution": {
     "iopub.execute_input": "2022-10-13T02:55:22.7499Z",
     "iopub.status.busy": "2022-10-13T02:55:22.749152Z",
     "iopub.status.idle": "2022-10-13T02:55:22.798131Z",
     "shell.execute_reply": "2022-10-13T02:55:22.796695Z"
    },
    "papermill": {
     "duration": 0.062611,
     "end_time": "2022-10-13T02:55:22.800979",
     "exception": false,
     "start_time": "2022-10-13T02:55:22.738368",
     "status": "completed"
    },
    "tags": []
   },
   "outputs": [
    {
     "name": "stdout",
     "output_type": "stream",
     "text": [
      "Accuracy: 0.8491875\n"
     ]
    }
   ],
   "source": [
    "from sklearn.metrics import accuracy_score\n",
    "print('Accuracy:', accuracy_score(test_labels, y_pred))"
   ]
  },
  {
   "cell_type": "markdown",
   "id": "f40758e2",
   "metadata": {
    "papermill": {
     "duration": 0.008697,
     "end_time": "2022-10-13T02:55:22.818924",
     "exception": false,
     "start_time": "2022-10-13T02:55:22.810227",
     "status": "completed"
    },
    "tags": []
   },
   "source": [
    "## Logistic Regression Model"
   ]
  },
  {
   "cell_type": "code",
   "execution_count": 16,
   "id": "18dd775c",
   "metadata": {
    "execution": {
     "iopub.execute_input": "2022-10-13T02:55:22.839299Z",
     "iopub.status.busy": "2022-10-13T02:55:22.83857Z",
     "iopub.status.idle": "2022-10-13T02:59:08.801133Z",
     "shell.execute_reply": "2022-10-13T02:59:08.799716Z"
    },
    "papermill": {
     "duration": 225.999056,
     "end_time": "2022-10-13T02:59:08.826971",
     "exception": false,
     "start_time": "2022-10-13T02:55:22.827915",
     "status": "completed"
    },
    "tags": []
   },
   "outputs": [
    {
     "data": {
      "text/plain": [
       "LogisticRegression(max_iter=150, n_jobs=-1)"
      ]
     },
     "execution_count": 16,
     "metadata": {},
     "output_type": "execute_result"
    }
   ],
   "source": [
    "from sklearn.linear_model import LogisticRegression\n",
    "\n",
    "lr_model = LogisticRegression(n_jobs=-1, max_iter=150)\n",
    "lr_model.fit(train_texts_vec, train_labels)"
   ]
  },
  {
   "cell_type": "code",
   "execution_count": 17,
   "id": "69c58c17",
   "metadata": {
    "execution": {
     "iopub.execute_input": "2022-10-13T02:59:08.868536Z",
     "iopub.status.busy": "2022-10-13T02:59:08.868076Z",
     "iopub.status.idle": "2022-10-13T02:59:08.996208Z",
     "shell.execute_reply": "2022-10-13T02:59:08.994813Z"
    },
    "papermill": {
     "duration": 0.152208,
     "end_time": "2022-10-13T02:59:09.000004",
     "exception": false,
     "start_time": "2022-10-13T02:59:08.847796",
     "status": "completed"
    },
    "tags": []
   },
   "outputs": [],
   "source": [
    "pred_lr = lr_model.predict(test_texts_vec)"
   ]
  },
  {
   "cell_type": "code",
   "execution_count": 18,
   "id": "0b58d523",
   "metadata": {
    "execution": {
     "iopub.execute_input": "2022-10-13T02:59:09.035071Z",
     "iopub.status.busy": "2022-10-13T02:59:09.033795Z",
     "iopub.status.idle": "2022-10-13T02:59:09.094563Z",
     "shell.execute_reply": "2022-10-13T02:59:09.092687Z"
    },
    "papermill": {
     "duration": 0.075811,
     "end_time": "2022-10-13T02:59:09.098309",
     "exception": false,
     "start_time": "2022-10-13T02:59:09.022498",
     "status": "completed"
    },
    "tags": []
   },
   "outputs": [
    {
     "name": "stdout",
     "output_type": "stream",
     "text": [
      "Accuracy: 0.9005675\n"
     ]
    }
   ],
   "source": [
    "print('Accuracy:', accuracy_score(test_labels, pred_lr))"
   ]
  },
  {
   "cell_type": "code",
   "execution_count": 19,
   "id": "8982b73d",
   "metadata": {
    "execution": {
     "iopub.execute_input": "2022-10-13T02:59:09.121544Z",
     "iopub.status.busy": "2022-10-13T02:59:09.121077Z",
     "iopub.status.idle": "2022-10-13T02:59:09.12949Z",
     "shell.execute_reply": "2022-10-13T02:59:09.128315Z"
    },
    "papermill": {
     "duration": 0.023069,
     "end_time": "2022-10-13T02:59:09.131972",
     "exception": false,
     "start_time": "2022-10-13T02:59:09.108903",
     "status": "completed"
    },
    "tags": []
   },
   "outputs": [
    {
     "name": "stdout",
     "output_type": "stream",
     "text": [
      "problems munchkin version ditto complaints separate easily either unscrewing prizing cheap flimsy leaks water also gasket looking something else hoping reviewers give honest good advice almost identical product munchkin\n",
      "\n",
      "predicted label: 0\n",
      "actual label: 0\n"
     ]
    }
   ],
   "source": [
    "sample = test_texts[100]\n",
    "print(sample)\n",
    "\n",
    "sample_vec = count_vect.transform([sample])\n",
    "pred = lr_model.predict(sample_vec)\n",
    "print('\\npredicted label:',pred[0])\n",
    "print('actual label:', test_labels[100])"
   ]
  },
  {
   "cell_type": "markdown",
   "id": "ae822bc5",
   "metadata": {
    "papermill": {
     "duration": 0.010255,
     "end_time": "2022-10-13T02:59:09.152373",
     "exception": false,
     "start_time": "2022-10-13T02:59:09.142118",
     "status": "completed"
    },
    "tags": []
   },
   "source": [
    "## Save Model"
   ]
  },
  {
   "cell_type": "code",
   "execution_count": 20,
   "id": "8054c31b",
   "metadata": {
    "execution": {
     "iopub.execute_input": "2022-10-13T02:59:09.17358Z",
     "iopub.status.busy": "2022-10-13T02:59:09.173141Z",
     "iopub.status.idle": "2022-10-13T02:59:09.682694Z",
     "shell.execute_reply": "2022-10-13T02:59:09.681406Z"
    },
    "papermill": {
     "duration": 0.52402,
     "end_time": "2022-10-13T02:59:09.685998",
     "exception": false,
     "start_time": "2022-10-13T02:59:09.161978",
     "status": "completed"
    },
    "tags": []
   },
   "outputs": [],
   "source": [
    "import pickle\n",
    "\n",
    "pickle.dump(lr_model, open('model.pkl', 'wb'))\n",
    "pickle.dump(count_vect, open('countvect.pkl', 'wb'))"
   ]
  },
  {
   "cell_type": "code",
   "execution_count": 21,
   "id": "abe4db54",
   "metadata": {
    "execution": {
     "iopub.execute_input": "2022-10-13T02:59:09.707019Z",
     "iopub.status.busy": "2022-10-13T02:59:09.706573Z",
     "iopub.status.idle": "2022-10-13T02:59:17.655963Z",
     "shell.execute_reply": "2022-10-13T02:59:17.654881Z"
    },
    "papermill": {
     "duration": 7.962857,
     "end_time": "2022-10-13T02:59:17.658491",
     "exception": false,
     "start_time": "2022-10-13T02:59:09.695634",
     "status": "completed"
    },
    "tags": []
   },
   "outputs": [
    {
     "data": {
      "text/plain": [
       "['countvect_joblib.pkl']"
      ]
     },
     "execution_count": 21,
     "metadata": {},
     "output_type": "execute_result"
    }
   ],
   "source": [
    "import joblib\n",
    "  \n",
    "joblib.dump(lr_model, 'model_joblib.pkl')\n",
    "joblib.dump(count_vect, 'countvect_joblib.pkl')"
   ]
  },
  {
   "cell_type": "markdown",
   "id": "fa5bc11e",
   "metadata": {
    "papermill": {
     "duration": 0.009137,
     "end_time": "2022-10-13T02:59:17.677216",
     "exception": false,
     "start_time": "2022-10-13T02:59:17.668079",
     "status": "completed"
    },
    "tags": []
   },
   "source": [
    "# Some more experiments required ......"
   ]
  }
 ],
 "metadata": {
  "kernelspec": {
   "display_name": "Python 3 (ipykernel)",
   "language": "python",
   "name": "python3"
  },
  "language_info": {
   "codemirror_mode": {
    "name": "ipython",
    "version": 3
   },
   "file_extension": ".py",
   "mimetype": "text/x-python",
   "name": "python",
   "nbconvert_exporter": "python",
   "pygments_lexer": "ipython3",
   "version": "3.9.12"
  },
  "papermill": {
   "default_parameters": {},
   "duration": 1522.351739,
   "end_time": "2022-10-13T02:59:20.512129",
   "environment_variables": {},
   "exception": null,
   "input_path": "__notebook__.ipynb",
   "output_path": "__notebook__.ipynb",
   "parameters": {},
   "start_time": "2022-10-13T02:33:58.16039",
   "version": "2.3.4"
  }
 },
 "nbformat": 4,
 "nbformat_minor": 5
}
