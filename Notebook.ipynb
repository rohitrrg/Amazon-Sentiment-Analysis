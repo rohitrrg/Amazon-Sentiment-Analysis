{
 "cells": [
  {
   "cell_type": "code",
   "execution_count": 1,
   "id": "a5b13542",
   "metadata": {},
   "outputs": [],
   "source": [
    "import pickle\n",
    "import pandas as pd\n",
    "import nltk\n",
    "import re"
   ]
  },
  {
   "cell_type": "code",
   "execution_count": 2,
   "id": "4f7b3228",
   "metadata": {},
   "outputs": [
    {
     "name": "stderr",
     "output_type": "stream",
     "text": [
      "/home/rohit/anaconda3/lib/python3.9/site-packages/sklearn/base.py:329: UserWarning: Trying to unpickle estimator LogisticRegression from version 1.0.2 when using version 1.1.1. This might lead to breaking code or invalid results. Use at your own risk. For more info please refer to:\n",
      "https://scikit-learn.org/stable/model_persistence.html#security-maintainability-limitations\n",
      "  warnings.warn(\n",
      "/home/rohit/anaconda3/lib/python3.9/site-packages/sklearn/base.py:329: UserWarning: Trying to unpickle estimator CountVectorizer from version 1.0.2 when using version 1.1.1. This might lead to breaking code or invalid results. Use at your own risk. For more info please refer to:\n",
      "https://scikit-learn.org/stable/model_persistence.html#security-maintainability-limitations\n",
      "  warnings.warn(\n"
     ]
    }
   ],
   "source": [
    "model = pickle.load(open('./model.pkl', 'rb'))\n",
    "countvect = pickle.load(open('./countvect.pkl', 'rb'))"
   ]
  },
  {
   "cell_type": "code",
   "execution_count": 3,
   "id": "babbdb59",
   "metadata": {},
   "outputs": [],
   "source": [
    "from nltk.corpus import stopwords"
   ]
  },
  {
   "cell_type": "code",
   "execution_count": 4,
   "id": "046ef350",
   "metadata": {},
   "outputs": [],
   "source": [
    "def clean_texts(texts):\n",
    "    stwords = stopwords.words('english')\n",
    "    l = len(texts)/10\n",
    "    temp_texts = []\n",
    "    for i in range(len(texts)):\n",
    "        text = re.sub('\\d','0',texts[i])\n",
    "        if 'www.' in text or 'http:' in text or 'https:' in text or '.com' in text: # remove links and urls\n",
    "            text = re.sub(r\"([^ ]+(?<=\\.[a-z]{3}))\", \" \", text)\n",
    "        \n",
    "        text = re.sub('[^a-zA-Z]', ' ', text)\n",
    "        text = text.lower()\n",
    "        text = text.split()\n",
    "        text = [word for word in text if not word in stwords] # remove stopwords \n",
    "        text = ' '.join(text)\n",
    "        temp_texts.append(text)\n",
    "        if i%l==0:\n",
    "            print('--'+str(int(i/l)*10)+'%', end='')\n",
    "    print('--100%--Done !')\n",
    "    return temp_texts"
   ]
  },
  {
   "cell_type": "code",
   "execution_count": 5,
   "id": "070e28a8",
   "metadata": {},
   "outputs": [],
   "source": [
    "from scrapy import AmazonReviews"
   ]
  },
  {
   "cell_type": "code",
   "execution_count": 6,
   "id": "6a61a81a",
   "metadata": {},
   "outputs": [
    {
     "name": "stdout",
     "output_type": "stream",
     "text": [
      " LG 260L 3 Star Smart Inverter Frost-Free Double Door Refrigerator (GL-I292RPZX, Shiny Steel, Door Cooling+)       \n"
     ]
    }
   ],
   "source": [
    "obj = AmazonReviews(\"https://www.amazon.in/LG-Inverter-Frost-Free-Refrigerator-GL-I292RPZX/dp/B08X72GY5Q/ref=lp_41909197031_1_1\")"
   ]
  },
  {
   "cell_type": "code",
   "execution_count": 7,
   "id": "3475cd9d",
   "metadata": {},
   "outputs": [],
   "source": [
    "reviews = obj.scrap(pages=2)"
   ]
  },
  {
   "cell_type": "code",
   "execution_count": 8,
   "id": "948871c3",
   "metadata": {},
   "outputs": [
    {
     "name": "stdout",
     "output_type": "stream",
     "text": [
      "['Abhi to mast chal Raha hai baad me dekh te hai', 'Good for a 5 members family', 'LG was one of the trusted brand in electronic items, but this model is worst. Within 5 months it shows cooling issues. Only freezer is cooling up lower fridge storage not cooling, full of water drops falling from freezer bottom size.', \"                    The media could not be loaded.                \\xa0I received the product on time and LG demo was done on the same day of deilvery.PROS:-Fridge build and finish is good.-There is lot of space for storage.-It runs with smart inventor technology-has huge fruit and vegetables tray.-DOOR COOLING PLUS IS GREAT FEATURES AND USEFUL, WHICH GIVE COOLING FROM FRONT AND BACK.-Smart diagnosis (i haven't use this feature, but it useful to diagnosis any issue)-So overall this is excellent buy for my requirements and I can recommend this product.Few cons which I observed:-There is no light freezer compartment.-No separate tray or space for dairy productsThis 2 cons were not dealer break for me\", \"Over all it's good\", 'Nice product timely delivery', \"OUT SIDE LOOKING SUPERB......BUT INSIDE PLASTIC MATERIAL VERY DELICATE COMPARE WITH OLD LG REFRIGERATOR......OVERALL EXPERIENCE IT'S OK\", 'Good product delivered', 'Nice product and good quality', 'Good', 'LG product are always good', 'Good', 'Bad post sell service', 'Good product.', 'fast cooling and very low noise. feature are useful', 'Every thing is good. But there is no light inside freeze.Installation done free of cost within 24 hr.Packaging was very good.', 'Working good without noise..All features are good.. worth buying it', 'Damage found both in refrigerator and carton, will switch on tomorrow.']\n"
     ]
    }
   ],
   "source": [
    "print(reviews)"
   ]
  },
  {
   "cell_type": "code",
   "execution_count": 9,
   "id": "078aefd1",
   "metadata": {},
   "outputs": [
    {
     "name": "stdout",
     "output_type": "stream",
     "text": [
      "--0%--100%--Done !\n",
      "['abhi mast chal raha hai baad dekh te hai', 'good members family', 'lg one trusted brand electronic items model worst within months shows cooling issues freezer cooling lower fridge storage cooling full water drops falling freezer bottom size', 'media could loaded received product time lg demo done day deilvery pros fridge build finish good lot space storage runs smart inventor technology huge fruit vegetables tray door cooling plus great features useful give cooling front back smart diagnosis use feature useful diagnosis issue overall excellent buy requirements recommend product cons observed light freezer compartment separate tray space dairy productsthis cons dealer break', 'good', 'nice product timely delivery', 'side looking superb inside plastic material delicate compare old lg refrigerator overall experience ok', 'good product delivered', 'nice product good quality', 'good', 'lg product always good', 'good', 'bad post sell service', 'good product', 'fast cooling low noise feature useful', 'every thing good light inside freeze installation done free cost within hr packaging good', 'working good without noise features good worth buying', 'damage found refrigerator carton switch tomorrow']\n"
     ]
    }
   ],
   "source": [
    "reviews_clean = clean_texts(reviews)\n",
    "print(reviews_clean)"
   ]
  },
  {
   "cell_type": "code",
   "execution_count": 11,
   "id": "7d4e8aab",
   "metadata": {},
   "outputs": [],
   "source": [
    "reviews_vect = countvect.transform(reviews_clean)"
   ]
  },
  {
   "cell_type": "code",
   "execution_count": 12,
   "id": "281aa41d",
   "metadata": {},
   "outputs": [],
   "source": [
    "pred = model.predict(reviews_vect)"
   ]
  },
  {
   "cell_type": "code",
   "execution_count": 14,
   "id": "594e19b2",
   "metadata": {},
   "outputs": [],
   "source": [
    "df = pd.DataFrame({'Reviews':reviews,'Sentiment':pred})"
   ]
  },
  {
   "cell_type": "code",
   "execution_count": 15,
   "id": "74ed1e02",
   "metadata": {},
   "outputs": [],
   "source": [
    "htm = df.to_html()"
   ]
  },
  {
   "cell_type": "code",
   "execution_count": 16,
   "id": "fb17476b",
   "metadata": {},
   "outputs": [
    {
     "data": {
      "text/plain": [
       "'<table border=\"1\" class=\"dataframe\">\\n  <thead>\\n    <tr style=\"text-align: right;\">\\n      <th></th>\\n      <th>Reviews</th>\\n      <th>Sentiment</th>\\n    </tr>\\n  </thead>\\n  <tbody>\\n    <tr>\\n      <th>0</th>\\n      <td>Abhi to mast chal Raha hai baad me dekh te hai</td>\\n      <td>0</td>\\n    </tr>\\n    <tr>\\n      <th>1</th>\\n      <td>Good for a 5 members family</td>\\n      <td>1</td>\\n    </tr>\\n    <tr>\\n      <th>2</th>\\n      <td>LG was one of the trusted brand in electronic items, but this model is worst. Within 5 months it shows cooling issues. Only freezer is cooling up lower fridge storage not cooling, full of water drops falling from freezer bottom size.</td>\\n      <td>0</td>\\n    </tr>\\n    <tr>\\n      <th>3</th>\\n      <td>The media could not be loaded.                \\xa0I received the product on time and LG demo was done on the same day of deilvery.PROS:-Fridge build and finish is good.-There is lot of space for storage.-It runs with smart inventor technology-has huge fruit and vegetables tray.-DOOR COOLING PLUS IS GREAT FEATURES AND USEFUL, WHICH GIVE COOLING FROM FRONT AND BACK.-Smart diagnosis (i haven\\'t use this feature, but it useful to diagnosis any issue)-So overall this is excellent buy for my requirements and I can recommend this product.Few cons which I observed:-There is no light freezer compartment.-No separate tray or space for dairy productsThis 2 cons were not dealer break for me</td>\\n      <td>1</td>\\n    </tr>\\n    <tr>\\n      <th>4</th>\\n      <td>Over all it\\'s good</td>\\n      <td>1</td>\\n    </tr>\\n    <tr>\\n      <th>5</th>\\n      <td>Nice product timely delivery</td>\\n      <td>1</td>\\n    </tr>\\n    <tr>\\n      <th>6</th>\\n      <td>OUT SIDE LOOKING SUPERB......BUT INSIDE PLASTIC MATERIAL VERY DELICATE COMPARE WITH OLD LG REFRIGERATOR......OVERALL EXPERIENCE IT\\'S OK</td>\\n      <td>1</td>\\n    </tr>\\n    <tr>\\n      <th>7</th>\\n      <td>Good product delivered</td>\\n      <td>1</td>\\n    </tr>\\n    <tr>\\n      <th>8</th>\\n      <td>Nice product and good quality</td>\\n      <td>1</td>\\n    </tr>\\n    <tr>\\n      <th>9</th>\\n      <td>Good</td>\\n      <td>1</td>\\n    </tr>\\n    <tr>\\n      <th>10</th>\\n      <td>LG product are always good</td>\\n      <td>1</td>\\n    </tr>\\n    <tr>\\n      <th>11</th>\\n      <td>Good</td>\\n      <td>1</td>\\n    </tr>\\n    <tr>\\n      <th>12</th>\\n      <td>Bad post sell service</td>\\n      <td>0</td>\\n    </tr>\\n    <tr>\\n      <th>13</th>\\n      <td>Good product.</td>\\n      <td>1</td>\\n    </tr>\\n    <tr>\\n      <th>14</th>\\n      <td>fast cooling and very low noise. feature are useful</td>\\n      <td>0</td>\\n    </tr>\\n    <tr>\\n      <th>15</th>\\n      <td>Every thing is good. But there is no light inside freeze.Installation done free of cost within 24 hr.Packaging was very good.</td>\\n      <td>1</td>\\n    </tr>\\n    <tr>\\n      <th>16</th>\\n      <td>Working good without noise..All features are good.. worth buying it</td>\\n      <td>1</td>\\n    </tr>\\n    <tr>\\n      <th>17</th>\\n      <td>Damage found both in refrigerator and carton, will switch on tomorrow.</td>\\n      <td>1</td>\\n    </tr>\\n  </tbody>\\n</table>'"
      ]
     },
     "execution_count": 16,
     "metadata": {},
     "output_type": "execute_result"
    }
   ],
   "source": [
    "htm"
   ]
  },
  {
   "cell_type": "code",
   "execution_count": 18,
   "id": "83c7178a",
   "metadata": {},
   "outputs": [],
   "source": [
    "from flask import Flask, render_template_string"
   ]
  },
  {
   "cell_type": "code",
   "execution_count": 21,
   "id": "8898039e",
   "metadata": {},
   "outputs": [
    {
     "ename": "AttributeError",
     "evalue": "'NoneType' object has no attribute 'app'",
     "output_type": "error",
     "traceback": [
      "\u001b[0;31m---------------------------------------------------------------------------\u001b[0m",
      "\u001b[0;31mAttributeError\u001b[0m                            Traceback (most recent call last)",
      "Input \u001b[0;32mIn [21]\u001b[0m, in \u001b[0;36m<cell line: 1>\u001b[0;34m()\u001b[0m\n\u001b[0;32m----> 1\u001b[0m \u001b[43mrender_template_string\u001b[49m\u001b[43m(\u001b[49m\u001b[38;5;124;43m\"\u001b[39;49m\u001b[38;5;124;43m<html>hello worlds</html>\u001b[39;49m\u001b[38;5;124;43m\"\u001b[39;49m\u001b[43m)\u001b[49m\n",
      "File \u001b[0;32m~/anaconda3/lib/python3.9/site-packages/flask/templating.py:154\u001b[0m, in \u001b[0;36mrender_template_string\u001b[0;34m(source, **context)\u001b[0m\n\u001b[1;32m    145\u001b[0m \u001b[38;5;124;03m\"\"\"Renders a template from the given template source string\u001b[39;00m\n\u001b[1;32m    146\u001b[0m \u001b[38;5;124;03mwith the given context. Template variables will be autoescaped.\u001b[39;00m\n\u001b[1;32m    147\u001b[0m \n\u001b[0;32m   (...)\u001b[0m\n\u001b[1;32m    151\u001b[0m \u001b[38;5;124;03m                context of the template.\u001b[39;00m\n\u001b[1;32m    152\u001b[0m \u001b[38;5;124;03m\"\"\"\u001b[39;00m\n\u001b[1;32m    153\u001b[0m ctx \u001b[38;5;241m=\u001b[39m _app_ctx_stack\u001b[38;5;241m.\u001b[39mtop\n\u001b[0;32m--> 154\u001b[0m \u001b[43mctx\u001b[49m\u001b[38;5;241;43m.\u001b[39;49m\u001b[43mapp\u001b[49m\u001b[38;5;241m.\u001b[39mupdate_template_context(context)\n\u001b[1;32m    155\u001b[0m \u001b[38;5;28;01mreturn\u001b[39;00m _render(ctx\u001b[38;5;241m.\u001b[39mapp\u001b[38;5;241m.\u001b[39mjinja_env\u001b[38;5;241m.\u001b[39mfrom_string(source), context, ctx\u001b[38;5;241m.\u001b[39mapp)\n",
      "\u001b[0;31mAttributeError\u001b[0m: 'NoneType' object has no attribute 'app'"
     ]
    }
   ],
   "source": [
    "render_template_string(\"<html>hello worlds</html>\")"
   ]
  },
  {
   "cell_type": "code",
   "execution_count": 13,
   "id": "2925c952",
   "metadata": {},
   "outputs": [],
   "source": [
    "import requests\n",
    "from bs4 import BeautifulSoup"
   ]
  },
  {
   "cell_type": "code",
   "execution_count": 22,
   "id": "005ec041",
   "metadata": {},
   "outputs": [],
   "source": [
    "url = \"https://www.amazon.in/Apple-iPhone-128GB-Product-RED/dp/B0BDJVSDMY/ref=sr_1_omk_4?crid=139UH08QB3SG1&keywords=iphone+13&qid=1669532415&qu=eyJxc2MiOiI0LjYyIiwicXNhIjoiNC4wNyIsInFzcCI6IjMuNDcifQ%3D%3D&sprefix=iphone%2Caps%2C268&sr=8-4\"\n",
    "header = {'User-Agent': 'Mozilla/5.0 (Windows NT 10.0; Win64; x64) AppleWebKit/537.36 (KHTML, like Gecko) Chrome/77.0.3865.90 Safari/537.36','referer':url}"
   ]
  },
  {
   "cell_type": "code",
   "execution_count": 23,
   "id": "60368b95",
   "metadata": {},
   "outputs": [],
   "source": [
    "page = requests.get(url, headers=header)"
   ]
  },
  {
   "cell_type": "code",
   "execution_count": 24,
   "id": "0e00c779",
   "metadata": {},
   "outputs": [],
   "source": [
    "soup = BeautifulSoup(page.content, features=\"html.parser\")"
   ]
  },
  {
   "cell_type": "code",
   "execution_count": 29,
   "id": "6b674cff",
   "metadata": {},
   "outputs": [],
   "source": [
    "title = soup.findAll(\"span\", {\"class\": \"a-size-large product-title-word-break\"})[0]#.text[7:]"
   ]
  },
  {
   "cell_type": "code",
   "execution_count": 30,
   "id": "64a89f3f",
   "metadata": {},
   "outputs": [
    {
     "data": {
      "text/plain": [
       "<span class=\"a-size-large product-title-word-break\" id=\"productTitle\">        Apple iPhone 14 128GB (Product) RED       </span>"
      ]
     },
     "execution_count": 30,
     "metadata": {},
     "output_type": "execute_result"
    }
   ],
   "source": [
    "title"
   ]
  },
  {
   "cell_type": "code",
   "execution_count": null,
   "id": "ccaa60f2",
   "metadata": {},
   "outputs": [],
   "source": []
  }
 ],
 "metadata": {
  "kernelspec": {
   "display_name": "Python 3 (ipykernel)",
   "language": "python",
   "name": "python3"
  },
  "language_info": {
   "codemirror_mode": {
    "name": "ipython",
    "version": 3
   },
   "file_extension": ".py",
   "mimetype": "text/x-python",
   "name": "python",
   "nbconvert_exporter": "python",
   "pygments_lexer": "ipython3",
   "version": "3.9.12"
  }
 },
 "nbformat": 4,
 "nbformat_minor": 5
}
