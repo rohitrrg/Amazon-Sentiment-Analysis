{
 "cells": [
  {
   "cell_type": "code",
   "execution_count": 1,
   "id": "a5b13542",
   "metadata": {},
   "outputs": [],
   "source": [
    "import pickle\n",
    "import pandas as pd\n",
    "import nltk\n",
    "import re"
   ]
  },
  {
   "cell_type": "code",
   "execution_count": 2,
   "id": "4f7b3228",
   "metadata": {},
   "outputs": [
    {
     "name": "stderr",
     "output_type": "stream",
     "text": [
      "/home/rohit/anaconda3/lib/python3.9/site-packages/sklearn/base.py:329: UserWarning: Trying to unpickle estimator LogisticRegression from version 1.0.2 when using version 1.1.1. This might lead to breaking code or invalid results. Use at your own risk. For more info please refer to:\n",
      "https://scikit-learn.org/stable/model_persistence.html#security-maintainability-limitations\n",
      "  warnings.warn(\n",
      "/home/rohit/anaconda3/lib/python3.9/site-packages/sklearn/base.py:329: UserWarning: Trying to unpickle estimator CountVectorizer from version 1.0.2 when using version 1.1.1. This might lead to breaking code or invalid results. Use at your own risk. For more info please refer to:\n",
      "https://scikit-learn.org/stable/model_persistence.html#security-maintainability-limitations\n",
      "  warnings.warn(\n"
     ]
    }
   ],
   "source": [
    "model = pickle.load(open('./model.pkl', 'rb'))\n",
    "countvect = pickle.load(open('./countvect.pkl', 'rb'))"
   ]
  },
  {
   "cell_type": "code",
   "execution_count": 3,
   "id": "babbdb59",
   "metadata": {},
   "outputs": [],
   "source": [
    "from nltk.corpus import stopwords"
   ]
  },
  {
   "cell_type": "code",
   "execution_count": 4,
   "id": "046ef350",
   "metadata": {},
   "outputs": [],
   "source": [
    "def clean_texts(texts):\n",
    "    stwords = stopwords.words('english')\n",
    "    l = len(texts)/10\n",
    "    temp_texts = []\n",
    "    for i in range(len(texts)):\n",
    "        text = re.sub('\\d','0',texts[i])\n",
    "        if 'www.' in text or 'http:' in text or 'https:' in text or '.com' in text: # remove links and urls\n",
    "            text = re.sub(r\"([^ ]+(?<=\\.[a-z]{3}))\", \" \", text)\n",
    "        \n",
    "        text = re.sub('[^a-zA-Z]', ' ', text)\n",
    "        text = text.lower()\n",
    "        text = text.split()\n",
    "        text = [word for word in text if not word in stwords] # remove stopwords \n",
    "        text = ' '.join(text)\n",
    "        temp_texts.append(text)\n",
    "        if i%l==0:\n",
    "            print('--'+str(int(i/l)*10)+'%', end='')\n",
    "    print('--100%--Done !')\n",
    "    return temp_texts"
   ]
  },
  {
   "cell_type": "code",
   "execution_count": 15,
   "id": "070e28a8",
   "metadata": {},
   "outputs": [],
   "source": [
    "from scrapy import AmazonReviews"
   ]
  },
  {
   "cell_type": "code",
   "execution_count": 16,
   "id": "6a61a81a",
   "metadata": {},
   "outputs": [
    {
     "name": "stdout",
     "output_type": "stream",
     "text": [
      "        LG 260L 3 Star Smart Inverter Frost-Free Double Door Refrigerator (GL-I292RPZX, Shiny Steel, Door Cooling+)       \n"
     ]
    }
   ],
   "source": [
    "obj = AmazonReviews(\"https://www.amazon.in/LG-Inverter-Frost-Free-Refrigerator-GL-I292RPZX/dp/B08X72GY5Q/ref=lp_41909197031_1_1\")"
   ]
  },
  {
   "cell_type": "code",
   "execution_count": 17,
   "id": "3475cd9d",
   "metadata": {},
   "outputs": [],
   "source": [
    "reviews = obj.scrap(pages=2)"
   ]
  },
  {
   "cell_type": "code",
   "execution_count": 18,
   "id": "948871c3",
   "metadata": {},
   "outputs": [
    {
     "name": "stdout",
     "output_type": "stream",
     "text": [
      "['Good for a 5 members family', 'LG was one of the trusted brand in electronic items, but this model is worst. Within 5 months it shows cooling issues. Only freezer is cooling up lower fridge storage not cooling, full of water drops falling from freezer bottom size.', \"                    The media could not be loaded.                \\xa0I received the product on time and LG demo was done on the same day of deilvery.PROS:-Fridge build and finish is good.-There is lot of space for storage.-It runs with smart inventor technology-has huge fruit and vegetables tray.-DOOR COOLING PLUS IS GREAT FEATURES AND USEFUL, WHICH GIVE COOLING FROM FRONT AND BACK.-Smart diagnosis (i haven't use this feature, but it useful to diagnosis any issue)-So overall this is excellent buy for my requirements and I can recommend this product.Few cons which I observed:-There is no light freezer compartment.-No separate tray or space for dairy productsThis 2 cons were not dealer break for me\", \"Over all it's good\", 'Nice product timely delivery', \"OUT SIDE LOOKING SUPERB......BUT INSIDE PLASTIC MATERIAL VERY DELICATE COMPARE WITH OLD LG REFRIGERATOR......OVERALL EXPERIENCE IT'S OK\", 'Good product delivered', 'Nice product and good quality', 'Good', 'LG product are always good', 'Good', 'Bad post sell service', 'Good product.', 'fast cooling and very low noise. feature are useful', 'Every thing is good. But there is no light inside freeze.Installation done free of cost within 24 hr.Packaging was very good.', 'Working good without noise..All features are good.. worth buying it', 'Damage found both in refrigerator and carton, will switch on tomorrow.', 'Almost Zero Noise, Color of fridge and fridge itself looks better than pictures and videos on social media. ( Non convertible , door cooling, shiny steel )']\n"
     ]
    }
   ],
   "source": [
    "print(reviews)"
   ]
  },
  {
   "cell_type": "code",
   "execution_count": 9,
   "id": "078aefd1",
   "metadata": {},
   "outputs": [
    {
     "name": "stdout",
     "output_type": "stream",
     "text": [
      "--0%--100%--Done !\n",
      "['good members family', 'lg one trusted brand electronic items model worst within months shows cooling issues freezer cooling lower fridge storage cooling full water drops falling freezer bottom size', 'media could loaded received product time lg demo done day deilvery pros fridge build finish good lot space storage runs smart inventor technology huge fruit vegetables tray door cooling plus great features useful give cooling front back smart diagnosis use feature useful diagnosis issue overall excellent buy requirements recommend product cons observed light freezer compartment separate tray space dairy productsthis cons dealer break', 'good', 'nice product timely delivery', 'side looking superb inside plastic material delicate compare old lg refrigerator overall experience ok', 'good product delivered', 'nice product good quality', 'good', 'lg product always good', 'good', 'bad post sell service', 'good product', 'fast cooling low noise feature useful', 'every thing good light inside freeze installation done free cost within hr packaging good', 'working good without noise features good worth buying', 'damage found refrigerator carton switch tomorrow', 'almost zero noise color fridge fridge looks better pictures videos social media non convertible door cooling shiny steel']\n"
     ]
    }
   ],
   "source": [
    "reviews = clean_texts(reviews)\n",
    "print(reviews)"
   ]
  },
  {
   "cell_type": "code",
   "execution_count": 10,
   "id": "7d4e8aab",
   "metadata": {},
   "outputs": [],
   "source": [
    "reviews_vect = countvect.transform(reviews)"
   ]
  },
  {
   "cell_type": "code",
   "execution_count": 11,
   "id": "281aa41d",
   "metadata": {},
   "outputs": [],
   "source": [
    "pred = model.predict(reviews_vect)"
   ]
  },
  {
   "cell_type": "code",
   "execution_count": 14,
   "id": "594e19b2",
   "metadata": {},
   "outputs": [
    {
     "data": {
      "text/html": [
       "<div>\n",
       "<style scoped>\n",
       "    .dataframe tbody tr th:only-of-type {\n",
       "        vertical-align: middle;\n",
       "    }\n",
       "\n",
       "    .dataframe tbody tr th {\n",
       "        vertical-align: top;\n",
       "    }\n",
       "\n",
       "    .dataframe thead th {\n",
       "        text-align: right;\n",
       "    }\n",
       "</style>\n",
       "<table border=\"1\" class=\"dataframe\">\n",
       "  <thead>\n",
       "    <tr style=\"text-align: right;\">\n",
       "      <th></th>\n",
       "      <th>Reviews</th>\n",
       "      <th>Sentiment</th>\n",
       "    </tr>\n",
       "  </thead>\n",
       "  <tbody>\n",
       "    <tr>\n",
       "      <th>0</th>\n",
       "      <td>Good for a 5 members family</td>\n",
       "      <td>1</td>\n",
       "    </tr>\n",
       "    <tr>\n",
       "      <th>1</th>\n",
       "      <td>LG was one of the trusted brand in electronic ...</td>\n",
       "      <td>0</td>\n",
       "    </tr>\n",
       "    <tr>\n",
       "      <th>2</th>\n",
       "      <td>The media could not be loa...</td>\n",
       "      <td>1</td>\n",
       "    </tr>\n",
       "    <tr>\n",
       "      <th>3</th>\n",
       "      <td>Over all it's good</td>\n",
       "      <td>1</td>\n",
       "    </tr>\n",
       "    <tr>\n",
       "      <th>4</th>\n",
       "      <td>Nice product timely delivery</td>\n",
       "      <td>1</td>\n",
       "    </tr>\n",
       "    <tr>\n",
       "      <th>5</th>\n",
       "      <td>OUT SIDE LOOKING SUPERB......BUT INSIDE PLASTI...</td>\n",
       "      <td>1</td>\n",
       "    </tr>\n",
       "    <tr>\n",
       "      <th>6</th>\n",
       "      <td>Good product delivered</td>\n",
       "      <td>1</td>\n",
       "    </tr>\n",
       "    <tr>\n",
       "      <th>7</th>\n",
       "      <td>Nice product and good quality</td>\n",
       "      <td>1</td>\n",
       "    </tr>\n",
       "    <tr>\n",
       "      <th>8</th>\n",
       "      <td>Good</td>\n",
       "      <td>1</td>\n",
       "    </tr>\n",
       "    <tr>\n",
       "      <th>9</th>\n",
       "      <td>LG product are always good</td>\n",
       "      <td>1</td>\n",
       "    </tr>\n",
       "    <tr>\n",
       "      <th>10</th>\n",
       "      <td>Good</td>\n",
       "      <td>1</td>\n",
       "    </tr>\n",
       "    <tr>\n",
       "      <th>11</th>\n",
       "      <td>Bad post sell service</td>\n",
       "      <td>0</td>\n",
       "    </tr>\n",
       "    <tr>\n",
       "      <th>12</th>\n",
       "      <td>Good product.</td>\n",
       "      <td>1</td>\n",
       "    </tr>\n",
       "    <tr>\n",
       "      <th>13</th>\n",
       "      <td>fast cooling and very low noise. feature are u...</td>\n",
       "      <td>0</td>\n",
       "    </tr>\n",
       "    <tr>\n",
       "      <th>14</th>\n",
       "      <td>Every thing is good. But there is no light ins...</td>\n",
       "      <td>1</td>\n",
       "    </tr>\n",
       "    <tr>\n",
       "      <th>15</th>\n",
       "      <td>Working good without noise..All features are g...</td>\n",
       "      <td>1</td>\n",
       "    </tr>\n",
       "    <tr>\n",
       "      <th>16</th>\n",
       "      <td>Damage found both in refrigerator and carton, ...</td>\n",
       "      <td>1</td>\n",
       "    </tr>\n",
       "    <tr>\n",
       "      <th>17</th>\n",
       "      <td>Almost Zero Noise, Color of fridge and fridge ...</td>\n",
       "      <td>0</td>\n",
       "    </tr>\n",
       "  </tbody>\n",
       "</table>\n",
       "</div>"
      ],
      "text/plain": [
       "                                              Reviews  Sentiment\n",
       "0                         Good for a 5 members family          1\n",
       "1   LG was one of the trusted brand in electronic ...          0\n",
       "2                       The media could not be loa...          1\n",
       "3                                  Over all it's good          1\n",
       "4                        Nice product timely delivery          1\n",
       "5   OUT SIDE LOOKING SUPERB......BUT INSIDE PLASTI...          1\n",
       "6                              Good product delivered          1\n",
       "7                       Nice product and good quality          1\n",
       "8                                                Good          1\n",
       "9                          LG product are always good          1\n",
       "10                                               Good          1\n",
       "11                              Bad post sell service          0\n",
       "12                                      Good product.          1\n",
       "13  fast cooling and very low noise. feature are u...          0\n",
       "14  Every thing is good. But there is no light ins...          1\n",
       "15  Working good without noise..All features are g...          1\n",
       "16  Damage found both in refrigerator and carton, ...          1\n",
       "17  Almost Zero Noise, Color of fridge and fridge ...          0"
      ]
     },
     "execution_count": 14,
     "metadata": {},
     "output_type": "execute_result"
    }
   ],
   "source": [
    "pd.DataFrame({'Reviews':reviews,'Sentiment':pred})"
   ]
  },
  {
   "cell_type": "code",
   "execution_count": 40,
   "id": "b4530e98",
   "metadata": {},
   "outputs": [
    {
     "data": {
      "text/plain": [
       "0.9052"
      ]
     },
     "execution_count": 40,
     "metadata": {},
     "output_type": "execute_result"
    }
   ],
   "source": [
    "from sklearn.metrics import accuracy_score, confusion_matrix\n",
    "\n",
    "accuracy_score(pred, labels)"
   ]
  },
  {
   "cell_type": "code",
   "execution_count": 41,
   "id": "c6dab36f",
   "metadata": {},
   "outputs": [
    {
     "data": {
      "text/plain": [
       "array([[4609,  460],\n",
       "       [ 488, 4443]])"
      ]
     },
     "execution_count": 41,
     "metadata": {},
     "output_type": "execute_result"
    }
   ],
   "source": [
    "confusion_matrix(pred, df['Labels'])"
   ]
  },
  {
   "cell_type": "code",
   "execution_count": 42,
   "id": "4b8c03af",
   "metadata": {},
   "outputs": [
    {
     "data": {
      "text/plain": [
       "'great read: i thought this book was brilliant, but yet realistic. it showed me that to error is human. i loved the fact that this writer showed the loving side of god and not the revengeful side of him. i loved how it twisted and turned and i could not put it down. i also loved the glass castle.'"
      ]
     },
     "execution_count": 42,
     "metadata": {},
     "output_type": "execute_result"
    }
   ],
   "source": [
    "df['Reviews'][12]"
   ]
  },
  {
   "cell_type": "code",
   "execution_count": 43,
   "id": "d8e8a7db",
   "metadata": {},
   "outputs": [
    {
     "data": {
      "text/plain": [
       "1"
      ]
     },
     "execution_count": 43,
     "metadata": {},
     "output_type": "execute_result"
    }
   ],
   "source": [
    "df['Labels'][12]"
   ]
  },
  {
   "cell_type": "code",
   "execution_count": 45,
   "id": "270b09ae",
   "metadata": {},
   "outputs": [
    {
     "data": {
      "text/plain": [
       "'stuning even for the non-gamer: this sound track was beautiful! it paints the senery in your mind so well i would recomend it even to people who hate vid. game music! i have played the game chrono cross but out of all of the games i have ever played it has the best music! it backs away from crude keyboarding and takes a fresher step with grate guitars and soulful orchestras. it would impress anyone who cares to listen! ^_^'"
      ]
     },
     "execution_count": 45,
     "metadata": {},
     "output_type": "execute_result"
    }
   ],
   "source": [
    "df['Reviews'][0]"
   ]
  },
  {
   "cell_type": "code",
   "execution_count": 46,
   "id": "4079f114",
   "metadata": {},
   "outputs": [],
   "source": [
    "from bs4 import BeautifulSoup as bs\n",
    "import requests"
   ]
  },
  {
   "cell_type": "code",
   "execution_count": 48,
   "id": "e2de5d16",
   "metadata": {},
   "outputs": [
    {
     "name": "stdout",
     "output_type": "stream",
     "text": [
      "https://www.amazon.in/OnePlus-Nord-Bahamas-128GB-Storage/dp/B09RG5R5FG/ref=sr_1_3?crid=OS3JBJSOS7MW&keywords=oneplus+nord+ce+2+5g&qid=1665410198&qu=eyJxc2MiOiIzLjIzIiwicXNhIjoiMi43MyIsInFzcCI6IjIuNDAifQ%3D%3D&sprefix=one%2Caps%2C259&sr=8-3\n"
     ]
    }
   ],
   "source": [
    "link1 = \"https://www.amazon.in/OnePlus-Nord-Bahamas-128GB-Storage/dp/B09RG5R5FG/ref=sr_1_3?crid=OS3JBJSOS7MW&keywords=oneplus+nord+ce+2+5g&qid=1665410198&qu=eyJxc2MiOiIzLjIzIiwicXNhIjoiMi43MyIsInFzcCI6IjIuNDAifQ%3D%3D&sprefix=one%2Caps%2C259&sr=8-3\"\n",
    "print(link1)"
   ]
  },
  {
   "cell_type": "code",
   "execution_count": 21,
   "id": "2aba28ac",
   "metadata": {},
   "outputs": [],
   "source": [
    "pred = [0,1,1,1,1,0,1,0,0]"
   ]
  },
  {
   "cell_type": "code",
   "execution_count": 26,
   "id": "97abacb8",
   "metadata": {},
   "outputs": [
    {
     "data": {
      "text/plain": [
       "30"
      ]
     },
     "execution_count": 26,
     "metadata": {},
     "output_type": "execute_result"
    }
   ],
   "source": [
    "round((30/100)*100)"
   ]
  },
  {
   "cell_type": "code",
   "execution_count": 27,
   "id": "4262e53a",
   "metadata": {},
   "outputs": [],
   "source": [
    "df = pd.read_csv('reviews.csv')"
   ]
  },
  {
   "cell_type": "code",
   "execution_count": 29,
   "id": "61757897",
   "metadata": {},
   "outputs": [],
   "source": [
    "df.to_html('reviews.html')"
   ]
  },
  {
   "cell_type": "code",
   "execution_count": null,
   "id": "74ed1e02",
   "metadata": {},
   "outputs": [],
   "source": []
  }
 ],
 "metadata": {
  "kernelspec": {
   "display_name": "Python 3 (ipykernel)",
   "language": "python",
   "name": "python3"
  },
  "language_info": {
   "codemirror_mode": {
    "name": "ipython",
    "version": 3
   },
   "file_extension": ".py",
   "mimetype": "text/x-python",
   "name": "python",
   "nbconvert_exporter": "python",
   "pygments_lexer": "ipython3",
   "version": "3.9.12"
  }
 },
 "nbformat": 4,
 "nbformat_minor": 5
}
